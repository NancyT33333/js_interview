{
 "cells": [
  {
   "cell_type": "code",
   "execution_count": 1,
   "metadata": {},
   "outputs": [
    {
     "name": "stdout",
     "output_type": "stream",
     "text": [
      "3\n"
     ]
    },
    {
     "data": {
      "text/plain": [
       "'3'"
      ]
     },
     "execution_count": 1,
     "metadata": {},
     "output_type": "execute_result"
    }
   ],
   "source": [
    "a = input()\n",
    "a"
   ]
  },
  {
   "cell_type": "code",
   "execution_count": 9,
   "metadata": {},
   "outputs": [
    {
     "name": "stdout",
     "output_type": "stream",
     "text": [
      "3 4\n",
      "<class 'int'>\n"
     ]
    }
   ],
   "source": [
    "n,m = input().split(' ')\n",
    "n = int(n)\n",
    "print(type(n))"
   ]
  },
  {
   "cell_type": "code",
   "execution_count": 254,
   "metadata": {},
   "outputs": [
    {
     "data": {
      "text/plain": [
       "[['a', 'b', 'c', 'd'], ['e', 'f', 'd', 'g'], ['h', 'i', 'j', 'k']]"
      ]
     },
     "execution_count": 254,
     "metadata": {},
     "output_type": "execute_result"
    }
   ],
   "source": [
    "tree"
   ]
  },
  {
   "cell_type": "code",
   "execution_count": 263,
   "metadata": {},
   "outputs": [
    {
     "name": "stdout",
     "output_type": "stream",
     "text": [
      "3 4\n",
      "abcd\n",
      "efdg\n",
      "hijk\n",
      "4\n",
      "abfdgk\n"
     ]
    }
   ],
   "source": [
    "n,m = input().split(' ')\n",
    "n = int(n)\n",
    "m = int(m)\n",
    "tree = []\n",
    "for i in range(n):\n",
    "    inputs=input()\n",
    "    tree.append([])\n",
    "    for j in range(m):\n",
    "        \n",
    "        tree[i].append(inputs[j])        \n",
    "\n",
    "\n",
    "\n",
    "possibles=[]\n",
    "leng=m+n-1\n",
    "\n",
    "\n",
    "stack = [([0,0], tree[0][0])]\n",
    "\n",
    "\n",
    "\n",
    "while len(stack)>0:\n",
    "    a = stack.pop()\n",
    "\n",
    "    i = a[0][0]\n",
    "    j = a[0][1]\n",
    "    stri=a[1]\n",
    "\n",
    "    try:\n",
    "        tree[i][j+1]\n",
    "        if len( stri+tree[i][j+1])==leng:\n",
    "            possibles.append(stri+tree[i][j+1])\n",
    "        else:    \n",
    "            stack.append( ([i, j+1], stri+tree[i][j+1]))\n",
    "    except IndexError:\n",
    "            pass\n",
    "\n",
    "    try:\n",
    "        tree[i+1][j]\n",
    "        if len( stri+tree[i+1][j])==leng:\n",
    "            possibles.append(stri+tree[i+1][j])\n",
    "        else:    \n",
    "            stack.insert(0, ([i+1, j], stri+tree[i+1][j]))         \n",
    "\n",
    "    except IndexError:\n",
    "            pass  \n",
    "\n",
    "     \n",
    "possibles.sort()\n",
    "possibles\n",
    "\n",
    "print(possibles[int(input())-1])"
   ]
  },
  {
   "cell_type": "code",
   "execution_count": null,
   "metadata": {},
   "outputs": [],
   "source": []
  }
 ],
 "metadata": {
  "kernelspec": {
   "display_name": "Python 3",
   "language": "python",
   "name": "python3"
  },
  "language_info": {
   "codemirror_mode": {
    "name": "ipython",
    "version": 3
   },
   "file_extension": ".py",
   "mimetype": "text/x-python",
   "name": "python",
   "nbconvert_exporter": "python",
   "pygments_lexer": "ipython3",
   "version": "3.6.6"
  }
 },
 "nbformat": 4,
 "nbformat_minor": 2
}

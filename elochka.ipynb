{
 "cells": [
  {
   "cell_type": "code",
   "execution_count": 5,
   "metadata": {},
   "outputs": [
    {
     "name": "stdout",
     "output_type": "stream",
     "text": [
      "3\n",
      "3 3\n",
      "2 2\n",
      "1 1\n"
     ]
    },
    {
     "data": {
      "text/plain": [
       "[[3, 3], [2, 2], [1, 1]]"
      ]
     },
     "execution_count": 5,
     "metadata": {},
     "output_type": "execute_result"
    }
   ],
   "source": [
    "q_elok=int(input())\n",
    "elki=[]  #[[1,2],[2,2],[3,3]]\n",
    "for i in range(q_elok):\n",
    "    elki.append(list(map(int, input().split(' '))))\n",
    "elki\n"
   ]
  },
  {
   "cell_type": "code",
   "execution_count": 29,
   "metadata": {},
   "outputs": [
    {
     "data": {
      "text/plain": [
       "[[5, 9], [3, 5], [1, 1]]"
      ]
     },
     "execution_count": 29,
     "metadata": {},
     "output_type": "execute_result"
    }
   ],
   "source": [
    "sizes = []\n",
    "bottoms=[]\n",
    "for i in range(len(elki)):\n",
    "    elka = elki[i]\n",
    "    size = elka[0]*elka[1]+(elka[0]-1)/2*elka[0]\n",
    "    sizes.append(size)\n",
    "    dno = 1+2*(elka[1]-1)\n",
    "    bottoms.append([dno])\n",
    "    bottoms[i].append(bottoms[i][0] + 2*(elka[0]-1))\n",
    "bottoms"
   ]
  },
  {
   "cell_type": "code",
   "execution_count": 18,
   "metadata": {},
   "outputs": [
    {
     "data": {
      "text/plain": [
       "12.0"
      ]
     },
     "execution_count": 18,
     "metadata": {},
     "output_type": "execute_result"
    }
   ],
   "source": [
    "max(sizes)"
   ]
  },
  {
   "cell_type": "code",
   "execution_count": null,
   "metadata": {},
   "outputs": [],
   "source": [
    "image=[]\n",
    "for i in range(int(max(sizes))):\n",
    "    image.append('')\n",
    "    "
   ]
  },
  {
   "cell_type": "code",
   "execution_count": 35,
   "metadata": {},
   "outputs": [
    {
     "data": {
      "text/plain": [
       "['#########',\n",
       " '#########',\n",
       " '#########',\n",
       " '#########',\n",
       " '#########',\n",
       " '#########',\n",
       " '#########',\n",
       " '#########',\n",
       " '#########',\n",
       " '#########',\n",
       " '#########',\n",
       " '##################']"
      ]
     },
     "execution_count": 35,
     "metadata": {},
     "output_type": "execute_result"
    }
   ],
   "source": [
    "for i in range(bottoms[0][1]):\n",
    "    for j in range(int(sizes[0])):        \n",
    "        image[-j]=image[-j]+(\"#\")\n",
    "image"
   ]
  },
  {
   "cell_type": "code",
   "execution_count": 24,
   "metadata": {},
   "outputs": [
    {
     "data": {
      "text/plain": [
       "1"
      ]
     },
     "execution_count": 24,
     "metadata": {},
     "output_type": "execute_result"
    }
   ],
   "source": []
  },
  {
   "cell_type": "code",
   "execution_count": null,
   "metadata": {},
   "outputs": [],
   "source": []
  }
 ],
 "metadata": {
  "kernelspec": {
   "display_name": "Python 3",
   "language": "python",
   "name": "python3"
  },
  "language_info": {
   "codemirror_mode": {
    "name": "ipython",
    "version": 3
   },
   "file_extension": ".py",
   "mimetype": "text/x-python",
   "name": "python",
   "nbconvert_exporter": "python",
   "pygments_lexer": "ipython3",
   "version": "3.6.6"
  }
 },
 "nbformat": 4,
 "nbformat_minor": 2
}
